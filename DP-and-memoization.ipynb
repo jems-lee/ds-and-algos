{
 "cells": [
  {
   "cell_type": "code",
   "execution_count": 1,
   "id": "977cb4f1",
   "metadata": {},
   "outputs": [],
   "source": [
    "import numpy as np"
   ]
  },
  {
   "cell_type": "code",
   "execution_count": 5,
   "id": "02e1f9c8",
   "metadata": {},
   "outputs": [],
   "source": [
    "# How many ways can 1, 3, and 4 add up to a number n. Order matters.\n",
    "\n",
    "def sum_to_n(n):\n",
    "    \"\"\"\n",
    "    Recurrence: D[n] = D[n-1] + D[n-3] + D[n-4]\n",
    "    \n",
    "    Base: D[0] = D[1] = D[2] = 1, D[3] = 2\n",
    "    \"\"\"\n",
    "    D = np.zeros(n)\n",
    "    D[0] = D[1] = D[2] = 1\n",
    "    D[3] = 2\n",
    "    for i in range(4,n):\n",
    "        D[i] = D[i-1] + D[i-3] + D[i-4]\n",
    "    return D"
   ]
  },
  {
   "cell_type": "code",
   "execution_count": 6,
   "id": "cd8103a1",
   "metadata": {},
   "outputs": [
    {
     "data": {
      "text/plain": [
       "array([ 1.,  1.,  1.,  2.,  4.,  6.,  9., 15., 25., 40.])"
      ]
     },
     "execution_count": 6,
     "metadata": {},
     "output_type": "execute_result"
    }
   ],
   "source": [
    "sum_to_n(10)"
   ]
  },
  {
   "cell_type": "code",
   "execution_count": 13,
   "id": "dd254ed0",
   "metadata": {},
   "outputs": [],
   "source": [
    "# What is the minimum number of steps to get from n to 1.\n",
    "# Allowed operations are x-1, x/2, and x/3\n",
    "\n",
    "def number_of_steps_to_one(n):\n",
    "    \"\"\"\n",
    "    Recurrence: D[n] = 1 + min(D[n-1], D[n/2], D[n/3]) when n/2 and n/3 are int\n",
    "    \n",
    "    Base: D[1] = 0, D[2] = 1, D[3] = 1\n",
    "    \"\"\"\n",
    "    D = np.zeros(n+1)\n",
    "    D[1] = 0\n",
    "    D[2] = 1\n",
    "    D[3] = 1\n",
    "    for i in range(4,n+1):\n",
    "        D[i] = 1 + D[i-1]\n",
    "        if i % 2 == 0:\n",
    "            D[i] = min(D[i], 1 + D[i//2])\n",
    "        if i % 3 == 0:\n",
    "            D[i] = min(D[i], 1 + D[i//3])\n",
    "    return D"
   ]
  },
  {
   "cell_type": "code",
   "execution_count": 28,
   "id": "b42c7b30",
   "metadata": {},
   "outputs": [
    {
     "name": "stdout",
     "output_type": "stream",
     "text": [
      "[0. 0. 1. 1. 2. 3. 2. 3. 3. 2. 3. 4. 3. 4. 4. 4.]\n"
     ]
    }
   ],
   "source": [
    "print(number_of_steps_to_one(15))"
   ]
  },
  {
   "cell_type": "code",
   "execution_count": 24,
   "id": "2aec9430",
   "metadata": {},
   "outputs": [],
   "source": [
    "def number_of_steps_to_one_memo(n):\n",
    "    memo = np.zeros(n+1) - 1\n",
    "    def do_it(n):\n",
    "        if n == 1:\n",
    "            memo[n] = 0\n",
    "            return 0\n",
    "        if memo[n] != -1:\n",
    "            return memo[n]\n",
    "        r = 1 + do_it(n - 1)\n",
    "        if n % 2 == 0:\n",
    "            r = min(r, 1 + do_it(n//2))\n",
    "        if n % 3 == 0:\n",
    "            r = min(r, 1 + do_it(n//3))\n",
    "        memo[n] = r\n",
    "        return r\n",
    "    do_it(n)\n",
    "    return memo\n",
    "    "
   ]
  },
  {
   "cell_type": "code",
   "execution_count": 27,
   "id": "ce5803ff",
   "metadata": {},
   "outputs": [
    {
     "name": "stdout",
     "output_type": "stream",
     "text": [
      "[-1.  0.  1.  1.  2.  3.  2.  3.  3.  2.  3.  4.  3.  4.  4.  4.]\n"
     ]
    }
   ],
   "source": [
    "print(number_of_steps_to_one_memo(15))"
   ]
  },
  {
   "cell_type": "code",
   "execution_count": 55,
   "id": "e1f1563e",
   "metadata": {},
   "outputs": [],
   "source": [
    "def fib(n):\n",
    "    assert n > 0\n",
    "    memo = np.zeros(n+1)\n",
    "    def get_fib(n):\n",
    "        if n == 1:\n",
    "            memo[n] = 1\n",
    "            return 1\n",
    "        if n == 2:\n",
    "            memo[n] = 1\n",
    "            return 1\n",
    "        if memo[n] > 0:\n",
    "            return memo[n]\n",
    "        fib = get_fib(n-1) + get_fib(n-2)\n",
    "        memo[n] = fib\n",
    "        return fib\n",
    "    get_fib(n)\n",
    "    return memo"
   ]
  },
  {
   "cell_type": "code",
   "execution_count": 57,
   "id": "2491cd67",
   "metadata": {},
   "outputs": [
    {
     "data": {
      "text/plain": [
       "array([ 0.,  1.,  1.,  2.,  3.,  5.,  8., 13., 21., 34., 55.])"
      ]
     },
     "execution_count": 57,
     "metadata": {},
     "output_type": "execute_result"
    }
   ],
   "source": [
    "fib(10)"
   ]
  },
  {
   "cell_type": "code",
   "execution_count": null,
   "id": "ce3566ed",
   "metadata": {},
   "outputs": [],
   "source": []
  }
 ],
 "metadata": {
  "kernelspec": {
   "display_name": "Python 3.7.10 64-bit ('venv': venv)",
   "language": "python",
   "name": "python3710jvsc74a57bd0ee8a4e38ba2e384b64e0e8df4f13ba4b9dc5f6f0fb254cafe502b199eb6df221"
  },
  "language_info": {
   "codemirror_mode": {
    "name": "ipython",
    "version": 3
   },
   "file_extension": ".py",
   "mimetype": "text/x-python",
   "name": "python",
   "nbconvert_exporter": "python",
   "pygments_lexer": "ipython3",
   "version": "3.7.10"
  }
 },
 "nbformat": 4,
 "nbformat_minor": 5
}
